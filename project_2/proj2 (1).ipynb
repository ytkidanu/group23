{
 "cells": [
  {
   "cell_type": "markdown",
   "metadata": {
    "colab_type": "text",
    "id": "view-in-github"
   },
   "source": [
    "<a href=\"https://colab.research.google.com/github/Ymy9he/group23/blob/main/finalproject.ipynb\" target=\"_parent\"><img src=\"https://colab.research.google.com/assets/colab-badge.svg\" alt=\"Open In Colab\"/></a>"
   ]
  },
  {
   "cell_type": "code",
   "execution_count": 105,
   "metadata": {
    "id": "gIDO7jNJJMfq"
   },
   "outputs": [],
   "source": [
    "import pandas as pd\n",
    "from sklearn.model_selection import train_test_split\n",
    "from sklearn.preprocessing import StandardScaler, OneHotEncoder\n",
    "from sklearn.neighbors import KNeighborsClassifier\n",
    "from sklearn.metrics import classification_report, confusion_matrix, accuracy_score\n",
    "from sklearn.impute import SimpleImputer\n",
    "from sklearn.ensemble import RandomForestClassifier, GradientBoostingClassifier\n",
    "from sklearn.utils import resample\n",
    "import seaborn as sns\n"
   ]
  },
  {
   "cell_type": "code",
   "execution_count": 137,
   "metadata": {
    "id": "HHVI3DiHQWkB"
   },
   "outputs": [],
   "source": [
    "# read in the data\n",
    "#df_train =pd.read_csv('/content/training_data.csv.crdownload')\n",
    "#df_test =pd.read_csv('/content/testing_data.csv.crdownload')\n",
    "\n",
    "\n",
    "#https://stackoverflow.com/questions/55240330/how-to-read-csv-file-from-github-using-pandas\n",
    "\n",
    "\n",
    "\n",
    "url_test = 'https://raw.githubusercontent.com/DS3001/group23/main/project_2/data/testing_data.csv'\n",
    "url_train = 'https://raw.githubusercontent.com/DS3001/group23/main/project_2/data/training_data.csv'\n",
    "\n",
    "df_test = pd.read_csv(url_test, index_col=0)\n",
    "df_train = pd.read_csv(url_train, index_col=0)\n",
    "\n",
    "df_train = df_train.reset_index(drop=True)\n",
    "df_test = df_test.reset_index(drop=True)\n"
   ]
  },
  {
   "cell_type": "code",
   "execution_count": 138,
   "metadata": {},
   "outputs": [
    {
     "data": {
      "text/html": [
       "<div>\n",
       "<style scoped>\n",
       "    .dataframe tbody tr th:only-of-type {\n",
       "        vertical-align: middle;\n",
       "    }\n",
       "\n",
       "    .dataframe tbody tr th {\n",
       "        vertical-align: top;\n",
       "    }\n",
       "\n",
       "    .dataframe thead th {\n",
       "        text-align: right;\n",
       "    }\n",
       "</style>\n",
       "<table border=\"1\" class=\"dataframe\">\n",
       "  <thead>\n",
       "    <tr style=\"text-align: right;\">\n",
       "      <th></th>\n",
       "      <th>id</th>\n",
       "      <th>gender</th>\n",
       "      <th>age</th>\n",
       "      <th>hypertension</th>\n",
       "      <th>heart_disease</th>\n",
       "      <th>ever_married</th>\n",
       "      <th>work_type</th>\n",
       "      <th>Residence_type</th>\n",
       "      <th>avg_glucose_level</th>\n",
       "      <th>bmi</th>\n",
       "      <th>smoking_status</th>\n",
       "      <th>stroke</th>\n",
       "    </tr>\n",
       "  </thead>\n",
       "  <tbody>\n",
       "    <tr>\n",
       "      <th>0</th>\n",
       "      <td>68685</td>\n",
       "      <td>Male</td>\n",
       "      <td>36.0</td>\n",
       "      <td>0</td>\n",
       "      <td>0</td>\n",
       "      <td>Yes</td>\n",
       "      <td>Govt_job</td>\n",
       "      <td>Urban</td>\n",
       "      <td>65.87</td>\n",
       "      <td>32.2</td>\n",
       "      <td>formerly smoked</td>\n",
       "      <td>0</td>\n",
       "    </tr>\n",
       "    <tr>\n",
       "      <th>1</th>\n",
       "      <td>59058</td>\n",
       "      <td>Female</td>\n",
       "      <td>45.0</td>\n",
       "      <td>0</td>\n",
       "      <td>0</td>\n",
       "      <td>Yes</td>\n",
       "      <td>Govt_job</td>\n",
       "      <td>Rural</td>\n",
       "      <td>68.66</td>\n",
       "      <td>25.3</td>\n",
       "      <td>never smoked</td>\n",
       "      <td>0</td>\n",
       "    </tr>\n",
       "    <tr>\n",
       "      <th>2</th>\n",
       "      <td>46068</td>\n",
       "      <td>Male</td>\n",
       "      <td>58.0</td>\n",
       "      <td>0</td>\n",
       "      <td>0</td>\n",
       "      <td>No</td>\n",
       "      <td>Self-employed</td>\n",
       "      <td>Rural</td>\n",
       "      <td>170.93</td>\n",
       "      <td>30.7</td>\n",
       "      <td>Unknown</td>\n",
       "      <td>0</td>\n",
       "    </tr>\n",
       "    <tr>\n",
       "      <th>3</th>\n",
       "      <td>36837</td>\n",
       "      <td>Female</td>\n",
       "      <td>61.0</td>\n",
       "      <td>0</td>\n",
       "      <td>0</td>\n",
       "      <td>Yes</td>\n",
       "      <td>Self-employed</td>\n",
       "      <td>Urban</td>\n",
       "      <td>69.88</td>\n",
       "      <td>27.1</td>\n",
       "      <td>never smoked</td>\n",
       "      <td>0</td>\n",
       "    </tr>\n",
       "    <tr>\n",
       "      <th>4</th>\n",
       "      <td>30550</td>\n",
       "      <td>Female</td>\n",
       "      <td>78.0</td>\n",
       "      <td>0</td>\n",
       "      <td>0</td>\n",
       "      <td>No</td>\n",
       "      <td>Private</td>\n",
       "      <td>Urban</td>\n",
       "      <td>103.86</td>\n",
       "      <td>30.6</td>\n",
       "      <td>Unknown</td>\n",
       "      <td>0</td>\n",
       "    </tr>\n",
       "  </tbody>\n",
       "</table>\n",
       "</div>"
      ],
      "text/plain": [
       "      id  gender   age  hypertension  heart_disease ever_married  \\\n",
       "0  68685    Male  36.0             0              0          Yes   \n",
       "1  59058  Female  45.0             0              0          Yes   \n",
       "2  46068    Male  58.0             0              0           No   \n",
       "3  36837  Female  61.0             0              0          Yes   \n",
       "4  30550  Female  78.0             0              0           No   \n",
       "\n",
       "       work_type Residence_type  avg_glucose_level   bmi   smoking_status  \\\n",
       "0       Govt_job          Urban              65.87  32.2  formerly smoked   \n",
       "1       Govt_job          Rural              68.66  25.3     never smoked   \n",
       "2  Self-employed          Rural             170.93  30.7          Unknown   \n",
       "3  Self-employed          Urban              69.88  27.1     never smoked   \n",
       "4        Private          Urban             103.86  30.6          Unknown   \n",
       "\n",
       "   stroke  \n",
       "0       0  \n",
       "1       0  \n",
       "2       0  \n",
       "3       0  \n",
       "4       0  "
      ]
     },
     "execution_count": 138,
     "metadata": {},
     "output_type": "execute_result"
    }
   ],
   "source": [
    "df_test.head()\n",
    "df_train.head()\n"
   ]
  },
  {
   "cell_type": "code",
   "execution_count": 139,
   "metadata": {},
   "outputs": [
    {
     "name": "stdout",
     "output_type": "stream",
     "text": [
      "['id', 'gender', 'age', 'hypertension', 'heart_disease', 'ever_married', 'work_type', 'Residence_type', 'avg_glucose_level', 'bmi', 'smoking_status', 'stroke']\n",
      "['id', 'gender', 'age', 'hypertension', 'heart_disease', 'ever_married', 'work_type', 'Residence_type', 'avg_glucose_level', 'bmi', 'smoking_status', 'stroke']\n"
     ]
    }
   ],
   "source": [
    "unique_columns = df_train.columns.tolist()\n",
    "print(unique_columns)\n",
    "unique_columns2 = df_test.columns.tolist()\n",
    "print(unique_columns2)"
   ]
  },
  {
   "cell_type": "code",
   "execution_count": 140,
   "metadata": {},
   "outputs": [
    {
     "data": {
      "text/plain": [
       "<AxesSubplot:>"
      ]
     },
     "execution_count": 140,
     "metadata": {},
     "output_type": "execute_result"
    },
    {
     "data": {
      "image/png": "[encoded data removed]",
      "text/plain": [
       "<Figure size 432x288 with 1 Axes>"
      ]
     },
     "metadata": {
      "needs_background": "light"
     },
     "output_type": "display_data"
    }
   ],
   "source": [
    "df_train.plot.box()\n"
   ]
  },
  {
   "cell_type": "code",
   "execution_count": 141,
   "metadata": {},
   "outputs": [
    {
     "data": {
      "image/png": "[encoded data removed]",
      "text/plain": [
       "<Figure size 432x288 with 1 Axes>"
      ]
     },
     "metadata": {
      "needs_background": "light"
     },
     "output_type": "display_data"
    }
   ],
   "source": [
    "import matplotlib.pyplot as plt\n",
    "import seaborn as sns\n",
    "\n",
    "df_train = df_train.drop('id', axis=1)\n",
    "\n",
    "ax = sns.boxplot(data=df_train)\n",
    "ax.set_xticklabels(ax.get_xticklabels(), rotation=45)  # Rotate x-axis labels\n",
    "\n",
    "plt.show()  # Show the boxplot\n",
    "# avg glucose has a lot of outliers, so does bmi "
   ]
  },
  {
   "cell_type": "code",
   "execution_count": 142,
   "metadata": {},
   "outputs": [
    {
     "data": {
      "text/plain": [
       "<AxesSubplot:>"
      ]
     },
     "execution_count": 142,
     "metadata": {},
     "output_type": "execute_result"
    },
    {
     "data": {
      "image/png": "[encoded data removed]",
      "text/plain": [
       "<Figure size 432x288 with 1 Axes>"
      ]
     },
     "metadata": {
      "needs_background": "light"
     },
     "output_type": "display_data"
    }
   ],
   "source": [
    "df_test.plot.box()\n"
   ]
  },
  {
   "cell_type": "code",
   "execution_count": 143,
   "metadata": {},
   "outputs": [
    {
     "data": {
      "image/png": "[encoded data removed]",
      "text/plain": [
       "<Figure size 432x288 with 1 Axes>"
      ]
     },
     "metadata": {
      "needs_background": "light"
     },
     "output_type": "display_data"
    }
   ],
   "source": [
    "import matplotlib.pyplot as plt\n",
    "import seaborn as sns\n",
    "\n",
    "df_test = df_test.drop('id', axis=1)\n",
    "\n",
    "ax = sns.boxplot(data=df_test)\n",
    "ax.set_xticklabels(ax.get_xticklabels(), rotation=45)  # Rotate x-axis labels\n",
    "\n",
    "plt.show()  # Show the boxplot\n",
    "# avg glucose has a lot of outliers, so does bmi "
   ]
  },
  {
   "cell_type": "code",
   "execution_count": 144,
   "metadata": {},
   "outputs": [
    {
     "name": "stdout",
     "output_type": "stream",
     "text": [
      "Missing Values:\n",
      "gender                 0\n",
      "age                    0\n",
      "hypertension           0\n",
      "heart_disease          0\n",
      "ever_married           0\n",
      "work_type              0\n",
      "Residence_type         0\n",
      "avg_glucose_level      0\n",
      "bmi                  159\n",
      "smoking_status         0\n",
      "stroke                 0\n",
      "dtype: int64\n"
     ]
    }
   ],
   "source": [
    "missing_values = df_train.isnull().sum()\n",
    "print(\"Missing Values:\")\n",
    "print(missing_values) # 159\n"
   ]
  },
  {
   "cell_type": "code",
   "execution_count": 145,
   "metadata": {},
   "outputs": [
    {
     "name": "stdout",
     "output_type": "stream",
     "text": [
      "Missing Values:\n",
      "gender                0\n",
      "age                   0\n",
      "hypertension          0\n",
      "heart_disease         0\n",
      "ever_married          0\n",
      "work_type             0\n",
      "Residence_type        0\n",
      "avg_glucose_level     0\n",
      "bmi                  42\n",
      "smoking_status        0\n",
      "stroke                0\n",
      "dtype: int64\n"
     ]
    }
   ],
   "source": [
    "missing_values = df_test.isnull().sum()\n",
    "print(\"Missing Values:\")\n",
    "print(missing_values) # 42"
   ]
  },
  {
   "cell_type": "code",
   "execution_count": 146,
   "metadata": {},
   "outputs": [],
   "source": [
    "df_train['bmi'].fillna(df_train['bmi'].mean(), inplace=True)\n",
    "df_test['bmi'].fillna(df_test['bmi'].mean(), inplace=True)"
   ]
  },
  {
   "cell_type": "code",
   "execution_count": 147,
   "metadata": {
    "colab": {
     "base_uri": "https://localhost:8080/"
    },
    "id": "JXYip7juK1lL",
    "outputId": "1a110621-a90c-4361-9002-10bd7b2afa3f"
   },
   "outputs": [
    {
     "data": {
      "text/plain": [
       "gender               0\n",
       "age                  0\n",
       "hypertension         0\n",
       "heart_disease        0\n",
       "ever_married         0\n",
       "work_type            0\n",
       "Residence_type       0\n",
       "avg_glucose_level    0\n",
       "bmi                  0\n",
       "smoking_status       0\n",
       "stroke               0\n",
       "dtype: int64"
      ]
     },
     "execution_count": 147,
     "metadata": {},
     "output_type": "execute_result"
    }
   ],
   "source": [
    "df_train.isnull().sum() # No more NA Values\n",
    "df_test.isnull().sum() # No more NA Values"
   ]
  },
  {
   "cell_type": "code",
   "execution_count": 148,
   "metadata": {},
   "outputs": [
    {
     "data": {
      "image/png": "[encoded data removed]",
      "text/plain": [
       "<Figure size 432x288 with 1 Axes>"
      ]
     },
     "metadata": {
      "needs_background": "light"
     },
     "output_type": "display_data"
    }
   ],
   "source": [
    "# Create box plots for avg_glucose_level\n",
    "sns.boxplot(x=df_train['avg_glucose_level'])\n",
    "plt.title('Boxplot of avg_glucose_level')\n",
    "plt.show()"
   ]
  },
  {
   "cell_type": "code",
   "execution_count": null,
   "metadata": {},
   "outputs": [],
   "source": [
    "#df_train['avg_glucose_level'] = np.log1p(df_train['avg_glucose_level']) # didnt work\n",
    "\n",
    "## Function to compute whiskers:\n",
    "def windsorize(x): # top of model_evaulation notes\n",
    "    # Compute IQR and 1st,3rd quantiles\n",
    "    pct25, pct75 = np.percentile(x,[25,75])\n",
    "    iqr = pct75 - pct25\n",
    "    # Compute whiskers:\n",
    "    lower_whisker = pct25 - iqr*1.5\n",
    "    upper_whisker = pct75 + iqr*1.5\n",
    "    # Windsorize x:\n",
    "    x_windsor = x\n",
    "    x_windsor[ x < lower_whisker ] = lower_whisker\n",
    "    x_windsor[ x > upper_whisker ] = upper_whisker\n",
    "    return(x_windsor)\n",
    "\n",
    "df_train['avg_glucose_level'] = windsorize(df_train['avg_glucose_level'])\n"
   ]
  },
  {
   "cell_type": "code",
   "execution_count": 150,
   "metadata": {},
   "outputs": [
    {
     "data": {
      "image/png": "[encoded data removed]",
      "text/plain": [
       "<Figure size 432x288 with 1 Axes>"
      ]
     },
     "metadata": {
      "needs_background": "light"
     },
     "output_type": "display_data"
    }
   ],
   "source": [
    "sns.boxplot(x=df_train['avg_glucose_level'])\n",
    "plt.title('Boxplot of avg_glucose_level')\n",
    "plt.show()"
   ]
  },
  {
   "cell_type": "code",
   "execution_count": null,
   "metadata": {},
   "outputs": [],
   "source": [
    "df_test['avg_glucose_level'] = windsorize(df_test['avg_glucose_level'])\n"
   ]
  },
  {
   "cell_type": "code",
   "execution_count": 157,
   "metadata": {},
   "outputs": [
    {
     "data": {
      "image/png": "[encoded data removed]",
      "text/plain": [
       "<Figure size 432x288 with 1 Axes>"
      ]
     },
     "metadata": {
      "needs_background": "light"
     },
     "output_type": "display_data"
    }
   ],
   "source": [
    "sns.boxplot(x=df_train['bmi'])\n",
    "plt.title('Boxplot of bmi')\n",
    "plt.show()"
   ]
  },
  {
   "cell_type": "code",
   "execution_count": null,
   "metadata": {},
   "outputs": [],
   "source": [
    "df_test['bmi'] = windsorize(df_test['bmi'])\n",
    "df_train['bmi'] = windsorize(df_train['bmi'])\n"
   ]
  },
  {
   "cell_type": "code",
   "execution_count": 164,
   "metadata": {},
   "outputs": [
    {
     "data": {
      "image/png": "[encoded data removed]",
      "text/plain": [
       "<Figure size 432x288 with 1 Axes>"
      ]
     },
     "metadata": {
      "needs_background": "light"
     },
     "output_type": "display_data"
    }
   ],
   "source": [
    "sns.boxplot(x=df_train['bmi'])\n",
    "plt.title('Boxplot of bmi')\n",
    "plt.show()"
   ]
  },
  {
   "cell_type": "code",
   "execution_count": 166,
   "metadata": {},
   "outputs": [
    {
     "data": {
      "image/png": "[encoded data removed]",
      "text/plain": [
       "<Figure size 432x288 with 1 Axes>"
      ]
     },
     "metadata": {
      "needs_background": "light"
     },
     "output_type": "display_data"
    }
   ],
   "source": [
    "\n",
    "ax = sns.boxplot(data=df_train)\n",
    "ax.set_xticklabels(ax.get_xticklabels(), rotation=45)  # Rotate x-axis labels\n",
    "\n",
    "plt.show()  # Show the boxplot\n",
    "# outliers fone, glucose one whisker is much longer than the other,"
   ]
  },
  {
   "cell_type": "code",
   "execution_count": 167,
   "metadata": {},
   "outputs": [],
   "source": [
    "y_train = df_train['stroke'] # target variable is stroke\n",
    "X_train = df_train.drop('stroke',axis=1)\n",
    "y_test = df_test['stroke']\n",
    "X_test = df_test.drop('stroke',axis=1)"
   ]
  },
  {
   "cell_type": "code",
   "execution_count": null,
   "metadata": {},
   "outputs": [],
   "source": []
  },
  {
   "cell_type": "code",
   "execution_count": null,
   "metadata": {},
   "outputs": [],
   "source": []
  },
  {
   "cell_type": "code",
   "execution_count": 179,
   "metadata": {},
   "outputs": [
    {
     "name": "stdout",
     "output_type": "stream",
     "text": [
      "Columns in X_train_lm: Index(['age', 'hypertension', 'heart_disease', 'avg_glucose_level', 'bmi',\n",
      "       'age^2', 'age hypertension', 'age heart_disease',\n",
      "       'age avg_glucose_level', 'age bmi', 'hypertension^2',\n",
      "       'hypertension heart_disease', 'hypertension avg_glucose_level',\n",
      "       'hypertension bmi', 'heart_disease^2',\n",
      "       'heart_disease avg_glucose_level', 'heart_disease bmi',\n",
      "       'avg_glucose_level^2', 'avg_glucose_level bmi', 'bmi^2', 'age^3',\n",
      "       'age^2 hypertension', 'age^2 heart_disease', 'age^2 avg_glucose_level',\n",
      "       'age^2 bmi', 'age hypertension^2', 'age hypertension heart_disease',\n",
      "       'age hypertension avg_glucose_level', 'age hypertension bmi',\n",
      "       'age heart_disease^2', 'age heart_disease avg_glucose_level',\n",
      "       'age heart_disease bmi', 'age avg_glucose_level^2',\n",
      "       'age avg_glucose_level bmi', 'age bmi^2', 'hypertension^3',\n",
      "       'hypertension^2 heart_disease', 'hypertension^2 avg_glucose_level',\n",
      "       'hypertension^2 bmi', 'hypertension heart_disease^2',\n",
      "       'hypertension heart_disease avg_glucose_level',\n",
      "       'hypertension heart_disease bmi', 'hypertension avg_glucose_level^2',\n",
      "       'hypertension avg_glucose_level bmi', 'hypertension bmi^2',\n",
      "       'heart_disease^3', 'heart_disease^2 avg_glucose_level',\n",
      "       'heart_disease^2 bmi', 'heart_disease avg_glucose_level^2',\n",
      "       'heart_disease avg_glucose_level bmi', 'heart_disease bmi^2',\n",
      "       'avg_glucose_level^3', 'avg_glucose_level^2 bmi',\n",
      "       'avg_glucose_level bmi^2', 'bmi^3', 'gender_Male', 'gender_Other',\n",
      "       'ever_married_Yes', 'Residence_type_Urban', 'work_type_Never_worked',\n",
      "       'work_type_Private', 'work_type_Self-employed', 'work_type_children',\n",
      "       'smoking_status_formerly smoked', 'smoking_status_never smoked',\n",
      "       'smoking_status_smokes'],\n",
      "      dtype='object')\n",
      "Columns in X_test_lm: Index(['age', 'hypertension', 'heart_disease', 'avg_glucose_level', 'bmi',\n",
      "       'age^2', 'age hypertension', 'age heart_disease',\n",
      "       'age avg_glucose_level', 'age bmi', 'hypertension^2',\n",
      "       'hypertension heart_disease', 'hypertension avg_glucose_level',\n",
      "       'hypertension bmi', 'heart_disease^2',\n",
      "       'heart_disease avg_glucose_level', 'heart_disease bmi',\n",
      "       'avg_glucose_level^2', 'avg_glucose_level bmi', 'bmi^2', 'age^3',\n",
      "       'age^2 hypertension', 'age^2 heart_disease', 'age^2 avg_glucose_level',\n",
      "       'age^2 bmi', 'age hypertension^2', 'age hypertension heart_disease',\n",
      "       'age hypertension avg_glucose_level', 'age hypertension bmi',\n",
      "       'age heart_disease^2', 'age heart_disease avg_glucose_level',\n",
      "       'age heart_disease bmi', 'age avg_glucose_level^2',\n",
      "       'age avg_glucose_level bmi', 'age bmi^2', 'hypertension^3',\n",
      "       'hypertension^2 heart_disease', 'hypertension^2 avg_glucose_level',\n",
      "       'hypertension^2 bmi', 'hypertension heart_disease^2',\n",
      "       'hypertension heart_disease avg_glucose_level',\n",
      "       'hypertension heart_disease bmi', 'hypertension avg_glucose_level^2',\n",
      "       'hypertension avg_glucose_level bmi', 'hypertension bmi^2',\n",
      "       'heart_disease^3', 'heart_disease^2 avg_glucose_level',\n",
      "       'heart_disease^2 bmi', 'heart_disease avg_glucose_level^2',\n",
      "       'heart_disease avg_glucose_level bmi', 'heart_disease bmi^2',\n",
      "       'avg_glucose_level^3', 'avg_glucose_level^2 bmi',\n",
      "       'avg_glucose_level bmi^2', 'bmi^3', 'gender_Male', 'ever_married_Yes',\n",
      "       'Residence_type_Urban', 'work_type_Never_worked', 'work_type_Private',\n",
      "       'work_type_Self-employed', 'work_type_children',\n",
      "       'smoking_status_formerly smoked', 'smoking_status_never smoked',\n",
      "       'smoking_status_smokes'],\n",
      "      dtype='object')\n"
     ]
    }
   ],
   "source": [
    "from sklearn.linear_model import LinearRegression\n",
    "from sklearn.preprocessing import PolynomialFeatures\n",
    "import pandas as pd\n",
    "\n",
    "# Separate columns\n",
    "\n",
    "num_cols = ['age', 'hypertension', 'heart_disease', 'avg_glucose_level', 'bmi']\n",
    "cat_cols = ['gender', 'ever_married', 'Residence_type', 'work_type', 'smoking_status']\n",
    "\n",
    "# Prepare encoded categorical variables for both train and test sets\n",
    "X_train_encoded = pd.get_dummies(X_train[cat_cols], drop_first=True, dtype='int')\n",
    "X_test_encoded = pd.get_dummies(X_test[cat_cols], drop_first=True, dtype='int')\n",
    "\n",
    "\n",
    "# Expand numerical features for the train set\n",
    "expander = PolynomialFeatures(degree=3, include_bias=False)\n",
    "Z= expander.fit_transform(X_train[num_cols])\n",
    "names_train = expander.get_feature_names_out(num_cols)\n",
    "Z_train = pd.DataFrame(data=Z, columns = names_train) # Create a new, expanded dataframe\n",
    "X_train_lm = pd.concat([Z_train,X_train_encoded],axis=1)\n",
    "\n",
    "\n",
    "Z = expander.fit_transform(X_test[num_cols])\n",
    "names_test = expander.get_feature_names_out(num_cols)\n",
    "Z_test = pd.DataFrame(data=Z, columns = names_test) # Create a new, expanded dataframe\n",
    "X_test_lm = pd.concat([Z_test, X_test_encoded],axis=1)\n",
    "\n",
    "\n",
    "print(\"Columns in X_train_lm:\", X_train_lm.columns)\n",
    "print(\"Columns in X_test_lm:\", X_test_lm.columns)\n",
    "#print(X_test_lm.columns)\n",
    "\n",
    "#missing_values_test = X_test_lm.isnull().sum() went back and cleaned up data nore because there were 2 many missing vals\n",
    "#print(\"Missing values in X_test_lm:\\n\", missing_values_test)\n",
    "\n",
    "\n",
    "# Fit the model and get the R2 measure\n",
    "#reg = LinearRegression().fit(X_train_lm, y_train)\n",
    "#print(reg.score(X_test_lm, y_test))  # R squared measure\n",
    "\n",
    "#total_values = X_test_lm.shape[0] * X_test_lm.shape[1]\n",
    "#print(\"Total values in X_test_lm:\", total_values)"
   ]
  },
  {
   "cell_type": "code",
   "execution_count": null,
   "metadata": {},
   "outputs": [],
   "source": [
    "## Linear Model sample code:\n",
    "from sklearn.linear_model import LinearRegression # Import linear regression model\n",
    "from sklearn.preprocessing import PolynomialFeatures\n",
    "\n",
    "# Expand features\n",
    "expander = PolynomialFeatures(degree=3,include_bias=False) # Create the expander\n",
    "#\n",
    "Z_train = expander.fit_transform(X_train) # Pass the df into the expander to get powers/interactions of x and y\n",
    "names = expander.get_feature_names_out() # Get the names of these variables\n",
    "X_train_lm = pd.DataFrame(data=Z_train, columns = names) # Create a new, expanded dataframe\n",
    "#\n",
    "Z_test = expander.fit_transform(X_test) # Pass the df into the expander to get powers/interactions of x and y\n",
    "names = expander.get_feature_names_out() # Get the names of these variables\n",
    "X_test_lm = pd.DataFrame(data=Z_test, columns = names) # Create a new, expanded dataframe\n",
    "\n",
    "# Fit the model and get the R2 measure:\n",
    "reg = LinearRegression().fit(X_train_lm, y_train) # Fit the linear model\n",
    "print(reg.score(X_test_lm, y_test)) # R squared measure\n",
    "\n",
    "# Predicted values:\n",
    "y_hat_lm = reg.predict(X_test_lm)\n",
    "residuals_lm = y_test - y_hat_lm\n",
    "\n",
    "## Residual plot:\n",
    "sns.kdeplot(residuals_lm)\n",
    "plt.show()\n",
    "\n",
    "## True versus predicted plot:\n",
    "plt.scatter(x=y_hat_lm,y=y_test)\n",
    "plt.title('Predicted vs. Actual Values')\n",
    "plt.show()\n",
    "\n",
    "## Metrics:\n",
    "SSE_lm = np.sum( (y_test-y_hat_lm)**2 )\n",
    "MSE_lm = SSE_lm/N_test\n",
    "RMSE_lm = (SSE_lm/N_test)**(1/2)\n",
    "R2_lm = 1 - SSE_lm/TSS"
   ]
  },
  {
   "cell_type": "code",
   "execution_count": 27,
   "metadata": {
    "colab": {
     "base_uri": "https://localhost:8080/"
    },
    "id": "uOtM7-VsbUwW",
    "outputId": "6d275e21-a96f-41f3-8c5b-57b209557b0d"
   },
   "outputs": [
    {
     "name": "stdout",
     "output_type": "stream",
     "text": [
      "Intercept\n",
      "-0.10389813446459303 \n",
      "\n",
      "Coef\n",
      "[ 3.26742613e-03  3.85259189e-02  2.63761338e-02  9.99006221e-05\n",
      " -1.19225633e-03  1.55121725e-04 -2.03753118e-02  2.39404502e-02\n",
      "  7.08275088e-02  4.17517461e-02  1.91860250e-02  8.45272693e-02\n",
      " -9.50180265e-03 -1.77715238e-02 -2.28869137e-03] \n",
      "\n",
      "R squared measure\n",
      "0.06544215232602912 \n",
      "\n"
     ]
    }
   ],
   "source": [
    "from sklearn.linear_model import LinearRegression # Import linear regression model\n",
    "from sklearn.model_selection import train_test_split\n",
    "def pn(x):\n",
    "    print(x,'\\n')\n",
    "\n",
    "\n",
    "# Separate numeric and categorical columns\n",
    "num_cols = ['age', 'hypertension', 'heart_disease', 'avg_glucose_level', 'bmi']\n",
    "cat_cols = ['gender', 'ever_married', 'Residence_type', 'work_type', 'smoking_status']\n",
    "\n",
    "# Include 'stroke' column (target variable)\n",
    "y = df_train['stroke']\n",
    "\n",
    "ym_encoded = pd.get_dummies(df_train[cat_cols], drop_first=True, dtype='int')\n",
    "\n",
    "\n",
    "#ym_encoded.head()\n",
    "\n",
    "\n",
    "# Combine encoded categorical and numeric columns\n",
    "ym = pd.concat([df_train[num_cols], ym_encoded], axis=1)\n",
    "\n",
    "# Split data into training and testing sets\n",
    "X_train, X_test, y_train, y_test = train_test_split(ym, y, test_size=0.2, random_state=42)\n",
    "X_train.head()\n",
    "\n",
    "reg = LinearRegression().fit(X_train, y_train)\n",
    "\n",
    "\n",
    "print(\"Intercept\")\n",
    "pn(reg.intercept_) # Intercept value\n",
    "print(\"Coef\")\n",
    "pn(reg.coef_) # Regression coefficients\n",
    "print(\"R squared measure\")\n",
    "pn(reg.score(X_test, y_test))  # R squared measure"
   ]
  },
  {
   "cell_type": "code",
   "execution_count": 17,
   "metadata": {},
   "outputs": [
    {
     "name": "stdout",
     "output_type": "stream",
     "text": [
      "Intercept\n",
      "-0.10389813446459303 \n",
      "\n",
      "Coef\n",
      "[ 3.26742613e-03  3.85259189e-02  2.63761338e-02  9.99006221e-05\n",
      " -1.19225633e-03  1.55121725e-04 -2.03753118e-02  2.39404502e-02\n",
      "  7.08275088e-02  4.17517461e-02  1.91860250e-02  8.45272693e-02\n",
      " -9.50180265e-03 -1.77715238e-02 -2.28869137e-03] \n",
      "\n",
      "R squared measure\n",
      "0.06544215232602912 \n",
      "\n",
      "R squared measure (Polynomial Features): -509315211208.75024\n"
     ]
    },
    {
     "data": {
      "image/png": "[encoded data removed]",
      "text/plain": [
       "<Figure size 432x288 with 1 Axes>"
      ]
     },
     "metadata": {
      "needs_background": "light"
     },
     "output_type": "display_data"
    },
    {
     "data": {
      "image/png": "[encoded data removed]",
      "text/plain": [
       "<Figure size 432x288 with 1 Axes>"
      ]
     },
     "metadata": {
      "needs_background": "light"
     },
     "output_type": "display_data"
    },
    {
     "name": "stdout",
     "output_type": "stream",
     "text": [
      "SSE: 5301847125471.254\n",
      "MSE: 25862668904.737823\n",
      "RMSE: 160818.7455016915\n",
      "R squared: -509315211208.75024\n"
     ]
    }
   ],
   "source": [
    "from sklearn.linear_model import LinearRegression\n",
    "from sklearn.model_selection import train_test_split\n",
    "from sklearn.preprocessing import PolynomialFeatures\n",
    "import numpy as np\n",
    "import seaborn as sns\n",
    "import matplotlib.pyplot as plt\n",
    "\n",
    "def pn(x):\n",
    "    print(x,'\\n')\n",
    "\n",
    "# Separate numeric and categorical columns\n",
    "num_cols = ['age', 'hypertension', 'heart_disease', 'avg_glucose_level', 'bmi']\n",
    "cat_cols = ['gender', 'ever_married', 'Residence_type', 'work_type', 'smoking_status']\n",
    "\n",
    "# Include 'stroke' column (target variable)\n",
    "y = df_train['stroke']\n",
    "\n",
    "ym_encoded = pd.get_dummies(df_train[cat_cols], drop_first=True, dtype='int')\n",
    "\n",
    "# Combine encoded categorical and numeric columns\n",
    "ym = pd.concat([df_train[num_cols], ym_encoded], axis=1)\n",
    "\n",
    "# Split data into training and testing sets\n",
    "X_train, X_test, y_train, y_test = train_test_split(ym, y, test_size=0.2, random_state=42)\n",
    "\n",
    "# Fit Linear Regression on original features\n",
    "reg = LinearRegression().fit(X_train, y_train)\n",
    "\n",
    "print(\"Intercept\")\n",
    "pn(reg.intercept_)  # Intercept value\n",
    "print(\"Coef\")\n",
    "pn(reg.coef_)  # Regression coefficients\n",
    "print(\"R squared measure\")\n",
    "pn(reg.score(X_test, y_test))  # R squared measure\n",
    "\n",
    "# Expand features\n",
    "expander = PolynomialFeatures(degree=3, include_bias=False)\n",
    "\n",
    "X_train_lm = expander.fit_transform(X_train)\n",
    "X_test_lm = expander.transform(X_test)\n",
    "\n",
    "# Fit the model and get the R2 measure:\n",
    "reg_poly = LinearRegression().fit(X_train_lm, y_train)\n",
    "print(\"R squared measure (Polynomial Features):\", reg_poly.score(X_test_lm, y_test))\n",
    "\n",
    "# Predicted values:\n",
    "y_hat_lm = reg_poly.predict(X_test_lm)\n",
    "residuals_lm = y_test - y_hat_lm\n",
    "\n",
    "## Residual plot:\n",
    "sns.kdeplot(residuals_lm)\n",
    "plt.title('Residual Plot')\n",
    "plt.show()\n",
    "\n",
    "## True versus predicted plot:\n",
    "plt.scatter(x=y_hat_lm, y=y_test)\n",
    "plt.title('Predicted vs. Actual Values')\n",
    "plt.xlabel('Predicted')\n",
    "plt.ylabel('Actual')\n",
    "plt.show()\n",
    "\n",
    "## Metrics:\n",
    "N_test = len(y_test)\n",
    "TSS = np.sum((y_test - y_test.mean())**2)\n",
    "SSE_lm = np.sum((y_test - y_hat_lm)**2)\n",
    "MSE_lm = SSE_lm / N_test\n",
    "RMSE_lm = np.sqrt(MSE_lm)\n",
    "R2_lm = 1 - SSE_lm / TSS\n",
    "\n",
    "print(\"SSE:\", SSE_lm)\n",
    "print(\"MSE:\", MSE_lm)\n",
    "print(\"RMSE:\", RMSE_lm)\n",
    "print(\"R squared:\", R2_lm)\n",
    "\n",
    "\n"
   ]
  },
  {
   "cell_type": "code",
   "execution_count": 30,
   "metadata": {},
   "outputs": [
    {
     "name": "stdout",
     "output_type": "stream",
     "text": [
      "Intercept: -0.10389813446459303\n",
      "Coefficients: [ 3.26742613e-03  3.85259189e-02  2.63761338e-02  9.99006221e-05\n",
      " -1.19225633e-03  1.55121725e-04 -2.03753118e-02  2.39404502e-02\n",
      "  7.08275088e-02  4.17517461e-02  1.91860250e-02  8.45272693e-02\n",
      " -9.50180265e-03 -1.77715238e-02 -2.28869137e-03]\n",
      "R squared measure: 0.06544215232602912\n",
      "R squared measure (Polynomial Features): -0.22249583922769722\n",
      "MSE (Polynomial Features): 0.06207748056899241\n",
      "RMSE (Polynomial Features): 0.24915352810865918\n"
     ]
    },
    {
     "data": {
      "image/png": "[encoded data removed]",
      "text/plain": [
       "<Figure size 432x288 with 1 Axes>"
      ]
     },
     "metadata": {
      "needs_background": "light"
     },
     "output_type": "display_data"
    },
    {
     "data": {
      "image/png": "[encoded data removed]",
      "text/plain": [
       "<Figure size 432x288 with 1 Axes>"
      ]
     },
     "metadata": {
      "needs_background": "light"
     },
     "output_type": "display_data"
    }
   ],
   "source": [
    "from sklearn.linear_model import LinearRegression\n",
    "from sklearn.model_selection import train_test_split\n",
    "from sklearn.preprocessing import PolynomialFeatures\n",
    "from sklearn.metrics import mean_squared_error, r2_score\n",
    "import numpy as np\n",
    "import seaborn as sns\n",
    "import matplotlib.pyplot as plt\n",
    "\n",
    "# Separate numeric and categorical columns\n",
    "num_cols = ['age', 'hypertension', 'heart_disease', 'avg_glucose_level', 'bmi']\n",
    "cat_cols = ['gender', 'ever_married', 'Residence_type', 'work_type', 'smoking_status']\n",
    "\n",
    "# (target variable)\n",
    "y = df_train['stroke']\n",
    "\n",
    "# One-hot encode categorical variables\n",
    "ym_encoded = pd.get_dummies(df_train[cat_cols], drop_first=True, dtype='int')\n",
    "\n",
    "# Combine encoded categorical and numeric columns\n",
    "ym = pd.concat([df_train[num_cols], ym_encoded], axis=1)\n",
    "\n",
    "# Split data into training and testing sets\n",
    "X_train, X_test, y_train, y_test = train_test_split(ym, y, test_size=0.2, random_state=42)\n",
    "\n",
    "# Fit Linear Regression on original features\n",
    "reg = LinearRegression().fit(X_train, y_train)\n",
    "\n",
    "print(\"Intercept:\", reg.intercept_)  # Intercept value\n",
    "print(\"Coefficients:\", reg.coef_)  # Regression coefficients\n",
    "print(\"R squared measure:\", reg.score(X_test, y_test))  # R squared measure\n",
    "\n",
    "# Expand features with PolynomialFeatures\n",
    "expander = PolynomialFeatures(degree=2, include_bias=False)\n",
    "\n",
    "X_train_poly = expander.fit_transform(X_train)\n",
    "X_test_poly = expander.transform(X_test)\n",
    "\n",
    "# Fit the model and get the R2 measure\n",
    "reg_poly = LinearRegression().fit(X_train_poly, y_train)\n",
    "y_hat_poly = reg_poly.predict(X_test_poly)\n",
    "\n",
    "print(\"R squared measure (Polynomial Features):\", r2_score(y_test, y_hat_poly))\n",
    "\n",
    "# Metrics\n",
    "MSE_poly = mean_squared_error(y_test, y_hat_poly)\n",
    "RMSE_poly = np.sqrt(MSE_poly)\n",
    "\n",
    "print(\"MSE (Polynomial Features):\", MSE_poly)\n",
    "print(\"RMSE (Polynomial Features):\", RMSE_poly)\n",
    "\n",
    "# Residual plot\n",
    "residuals_poly = y_test - y_hat_poly\n",
    "sns.kdeplot(residuals_poly)\n",
    "plt.title('Residual Plot')\n",
    "plt.show()\n",
    "\n",
    "# True versus predicted plot\n",
    "plt.scatter(x=y_hat_poly, y=y_test)\n",
    "plt.title('Predicted vs. Actual Values')\n",
    "plt.xlabel('Predicted')\n",
    "plt.ylabel('Actual')\n",
    "plt.show()\n"
   ]
  },
  {
   "cell_type": "code",
   "execution_count": null,
   "metadata": {},
   "outputs": [],
   "source": []
  },
  {
   "cell_type": "code",
   "execution_count": null,
   "metadata": {},
   "outputs": [],
   "source": [
    "\n",
    "\n",
    "## kNN sample code:\n",
    "from sklearn.neighbors import KNeighborsRegressor\n",
    "\n",
    "TSS = np.sum( (y_test - y_train.mean())**2 )\n",
    "N_test = len(y_test)\n",
    "\n",
    "# Maxmin normalization function:\n",
    "def maxmin(z):\n",
    "    z = (z-min(z))/(max(z)-min(z))\n",
    "    return(z)\n",
    "\n",
    "# Apply maxmin to each column of X:\n",
    "X_train_knn = X_train.apply(maxmin)\n",
    "X_test_knn = X_test.apply(maxmin)\n",
    "\n",
    "missing_values = X_test_knn.isnull().sum()\n",
    "\n",
    "# Display columns with missing values and their respective counts\n",
    "print(\"Columns with Missing Values:\")\n",
    "print(missing_values[missing_values > 0])\n",
    "#X_train_knn.describe()\n",
    "\n",
    "#missing_values = X_train_knn.isnull().sum()\n",
    "#print(\"Missing Values:\")\n",
    "#print(missing_values) "
   ]
  },
  {
   "cell_type": "code",
   "execution_count": null,
   "metadata": {},
   "outputs": [],
   "source": []
  },
  {
   "cell_type": "code",
   "execution_count": null,
   "metadata": {},
   "outputs": [],
   "source": [
    "\n",
    "imputer = SimpleImputer(strategy='mean')\n",
    "X_train_knn_imputed = imputer.fit_transform(X_train_knn)\n",
    "X_test_knn_imputed = imputer.transform(X_test_knn)\n",
    "# Determine optimal k:\n",
    "k_bar = 70\n",
    "k_grid = np.arange(1,k_bar) # The range of k's to consider\n",
    "SSE = np.zeros(k_bar-1) # For comparison purposes, store the training error\n",
    "for k in range(k_bar-1):\n",
    "    model = KNeighborsRegressor(n_neighbors=k+1) # Create a sk model for k\n",
    "    fitted_model = model.fit(X_train_knn,y_train) # Train the model on our data\n",
    "    y_hat = fitted_model.predict(X_test_knn) # Predict values for test set\n",
    "    SSE[k] = np.sum( (y_test-y_hat)**2 ) # Save the computed SSE\n",
    "SSE_min = np.min(SSE) # Lowest recorded SSE\n",
    "min_index = np.where(SSE==SSE_min) # Find the indices of y that equal the minimum\n",
    "k_star = k_grid[min_index][0] # Find the optimal value of k\n",
    "\n",
    "## SSE plot:\n",
    "plt.plot(k_grid,SSE)\n",
    "plt.xlabel(\"k\")\n",
    "plt.ylabel(\"SSE\")\n",
    "plt.title('SSE')\n",
    "plt.show()\n"
   ]
  },
  {
   "cell_type": "code",
   "execution_count": null,
   "metadata": {},
   "outputs": [],
   "source": [
    "model = KNeighborsClassifier(n_neighbors=9)\n",
    "fitted_model = model.fit(X_train,y_train) # Train the model on our data\n",
    "y_hat = fitted_model.predict(X_test) # Predict values for test set\n",
    "pd.crosstab(y_test, y_hat)"
   ]
  },
  {
   "cell_type": "code",
   "execution_count": null,
   "metadata": {},
   "outputs": [],
   "source": [
    "# Expand features\n",
    "expander = PolynomialFeatures(degree=3,include_bias=False) # Create the expander\n",
    "#\n",
    "Z_train = expander.fit_transform(X_train) # Pass the df into the expander to get powers/interactions of x and y\n",
    "names = expander.get_feature_names_out() # Get the names of these variables\n",
    "X_train_lm = pd.DataFrame(data=Z_train, columns = names) # Create a new, expanded dataframe\n",
    "#\n",
    "Z_test = expander.fit_transform(X_test) # Pass the df into the expander to get powers/interactions of x and y\n",
    "names = expander.get_feature_names_out() # Get the names of these variables\n",
    "X_test_lm = pd.DataFrame(data=Z_test, columns = names) # Create a new, expanded dataframe\n",
    "\n",
    "# Fit the model and get the R2 measure:\n",
    "reg = LinearRegression().fit(X_train_lm, y_train) # Fit the linear model\n",
    "print(reg.score(X_test_lm, y_test)) # R squared measure\n",
    "\n",
    "# Predicted values:\n",
    "y_hat_lm = reg.predict(X_test_lm)\n",
    "residuals_lm = y_test - y_hat_lm\n",
    "\n",
    "## Residual plot:\n",
    "sns.kdeplot(residuals_lm)\n",
    "plt.show()\n",
    "\n",
    "## True versus predicted plot:\n",
    "plt.scatter(x=y_hat_lm,y=y_test)\n",
    "plt.title('Predicted vs. Actual Values')\n",
    "plt.show()\n",
    "\n",
    "## Metrics:\n",
    "SSE_lm = np.sum( (y_test-y_hat_lm)**2 )\n",
    "MSE_lm = SSE_lm/N_test\n",
    "RMSE_lm = (SSE_lm/N_test)**(1/2)\n",
    "R2_lm = 1 - SSE_lm/TSS"
   ]
  },
  {
   "cell_type": "code",
   "execution_count": null,
   "metadata": {},
   "outputs": [],
   "source": []
  }
 ],
 "metadata": {
  "colab": {
   "include_colab_link": true,
   "provenance": [],
   "toc_visible": true
  },
  "kernelspec": {
   "display_name": "Python 3",
   "language": "python",
   "name": "python3"
  },
  "language_info": {
   "codemirror_mode": {
    "name": "ipython",
    "version": 3
   },
   "file_extension": ".py",
   "mimetype": "text/x-python",
   "name": "python",
   "nbconvert_exporter": "python",
   "pygments_lexer": "ipython3",
   "version": "3.8.8"
  }
 },
 "nbformat": 4,
 "nbformat_minor": 4
}
